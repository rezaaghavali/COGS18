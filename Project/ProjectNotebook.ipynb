{
 "cells": [
  {
   "cell_type": "markdown",
   "metadata": {},
   "source": [
    "# Project Description"
   ]
  },
  {
   "cell_type": "markdown",
   "metadata": {},
   "source": [
    "This program uses a dictionary to keep friends'names and birthdays. By using this program you can add/edit and modify each of your friend's birthday. This program starts with an empty dictionary and will save the nammes as a key and the corresponding birthdays as the value.\n",
    " "
   ]
  },
  {
   "cell_type": "markdown",
   "metadata": {},
   "source": [
    "## Project Code\n",
    "\n",
    "If it makes sense for your project, you can have code and outputs here in the notebook as well."
   ]
  },
  {
   "cell_type": "code",
   "execution_count": null,
   "metadata": {
    "scrolled": true
   },
   "outputs": [
    {
     "name": "stdout",
     "output_type": "stream",
     "text": [
      "\n",
      "Friends and Their Birthdays\n",
      "---------------------------\n",
      "1. Look up a birthday\n",
      "2. Add a new birthday\n",
      "3. Change a birthday\n",
      "4. Delete a birthday\n",
      "5. Quit the program\n",
      "\n",
      "Enter your choice: 2\n",
      "Enter a name: Alex\n",
      "Enter a birthday: 06/23/1980\n",
      "\n",
      "Friends and Their Birthdays\n",
      "---------------------------\n",
      "1. Look up a birthday\n",
      "2. Add a new birthday\n",
      "3. Change a birthday\n",
      "4. Delete a birthday\n",
      "5. Quit the program\n",
      "\n",
      "Enter your choice: 1\n",
      "Enter a name: Alex\n",
      "06/23/1980\n",
      "\n",
      "Friends and Their Birthdays\n",
      "---------------------------\n",
      "1. Look up a birthday\n",
      "2. Add a new birthday\n",
      "3. Change a birthday\n",
      "4. Delete a birthday\n",
      "5. Quit the program\n",
      "\n"
     ]
    }
   ],
   "source": [
    "from my_module import birthdays\n",
    "birthdays.main()"
   ]
  },
  {
   "cell_type": "markdown",
   "metadata": {},
   "source": [
    "## Project test"
   ]
  },
  {
   "cell_type": "code",
   "execution_count": 1,
   "metadata": {},
   "outputs": [
    {
     "name": "stdout",
     "output_type": "stream",
     "text": [
      "\u001b[1m============================= test session starts ==============================\u001b[0m\r\n",
      "platform darwin -- Python 3.7.6, pytest-5.3.5, py-1.8.1, pluggy-0.13.1\r\n",
      "rootdir: /Users/rezaaghavali/Documents/UCSD/Spring Quarter 2020/COGS 18/ProjectTemplate\r\n",
      "plugins: hypothesis-5.5.4, arraydiff-0.3, remotedata-0.3.2, openfiles-0.4.0, doctestplus-0.5.0, astropy-header-0.1.2\r\n",
      "\u001b[1mcollecting ... \u001b[0m\u001b[1m\r",
      "collected 3 items                                                              \u001b[0m\r\n",
      "\r\n",
      "my_module/test_script.py \u001b[32m.\u001b[0m\u001b[32m.\u001b[0m\u001b[32m.\u001b[0m\u001b[32m                                             [100%]\u001b[0m\r\n",
      "\r\n",
      "\u001b[32m============================== \u001b[32m\u001b[1m3 passed\u001b[0m\u001b[32m in 0.03s\u001b[0m\u001b[32m ===============================\u001b[0m\r\n"
     ]
    }
   ],
   "source": [
    "!pytest"
   ]
  },
  {
   "cell_type": "markdown",
   "metadata": {},
   "source": [
    "#### Extra Credit (*optional*)\n",
    "\n",
    "Replace all of this text with a brief explanation (~3 sentences) of: \n",
    "1. I did not have any python background prior to this class but have done lots of coding in MATLAB\n",
    "2. I had to dive deeper in understanding dictionaries and how to pass them along multiple functions."
   ]
  }
 ],
 "metadata": {
  "kernelspec": {
   "display_name": "Python 3",
   "language": "python",
   "name": "python3"
  },
  "language_info": {
   "codemirror_mode": {
    "name": "ipython",
    "version": 3
   },
   "file_extension": ".py",
   "mimetype": "text/x-python",
   "name": "python",
   "nbconvert_exporter": "python",
   "pygments_lexer": "ipython3",
   "version": "3.7.6"
  }
 },
 "nbformat": 4,
 "nbformat_minor": 2
}
